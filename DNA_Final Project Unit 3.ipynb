{
 "cells": [
  {
   "cell_type": "code",
   "execution_count": 15,
   "metadata": {},
   "outputs": [],
   "source": [
    "# importing the library\n",
    "import matplotlib.pyplot as plt\n",
    "# opening the text we're going to use in the code \n",
    "whale = open(\"Minke whale_DNA.txt\").read()\n",
    "hippo = open(\"Hippopotamus amphibiusDNA.txt\").read()\n",
    "boar = open(\"Sus scrofa alpha boar _DNA.txt\").read()"
   ]
  },
  {
   "cell_type": "code",
   "execution_count": 16,
   "metadata": {},
   "outputs": [
    {
     "name": "stdout",
     "output_type": "stream",
     "text": [
      "UUAGGGGUUUCGAUUCCUCUGAUAGGAAGGAUUCGUAUUUCUUUACGGGAAGGGAUAUAGAGGUCAUCUGGGAAAUAACUUUCGGUCUCGGACGGAGAGUGACUAGAACUUUUAGACGUGGAAGGAGACAGAGACGAGGUCAGGAACUACGUGGUCGGAGGGGUCGGAGAAGGAGGAUGGGGGUACAAAGGAGGAGUCGGGGACGGCAGGGAAAGAGUCGGGUUUCAGGACGGAUAAGGGGUCGUUCACCACGGGGUGUAGGUCUCUGUAUACGGGUAGGU\n"
     ]
    }
   ],
   "source": [
    "RNA_wha = \"\" #RNA\n",
    "for i in whale:\n",
    "    if i == \"A\":\n",
    "        RNA_wha +=\"U\"\n",
    "    elif i == \"C\":\n",
    "        RNA_wha += \"G\"\n",
    "    elif i == \"G\":\n",
    "        RNA_wha += \"C\"\n",
    "    elif i == \"T\":\n",
    "        RNA_wha+= \"A\"\n",
    "print(RNA_wha)"
   ]
  },
  {
   "cell_type": "code",
   "execution_count": 17,
   "metadata": {},
   "outputs": [
    {
     "name": "stdout",
     "output_type": "stream",
     "text": [
      "UCAGGGGUUUCGUUUCCUCUGAUAGGAAGGAUUCGUAUUUCUUUACGGGAAGAGAUUUAGAGGUCAUCUCGGGAAAUGACUUUCCGUCUCGGACUGAGAAUGACUAGAACUUUUAGACGUGAAGGGGACGGAGACGAAGUCAGGACCUACGUGGGUGAAGGGUCGGAGAAAGAGGAUGGGAGUACAAAGGAAGAGUCGGGAACGUCAGGGAAGGUGUCGGGCAAAGAGUCGGGGUUCGGGACGGAUAAGGGGUCGUUCACCAUGGGAUGGGUGUCUCUCU\n"
     ]
    }
   ],
   "source": [
    "RNA_hip = \"\" \n",
    "for i in hippo:\n",
    "    if i == \"A\":\n",
    "        RNA_hip +=\"U\"\n",
    "    elif i == \"C\":\n",
    "        RNA_hip += \"G\"\n",
    "    elif i == \"G\":\n",
    "        RNA_hip += \"C\"\n",
    "    elif i == \"T\":\n",
    "        RNA_hip += \"A\"\n",
    "print(RNA_hip)"
   ]
  },
  {
   "cell_type": "code",
   "execution_count": 18,
   "metadata": {},
   "outputs": [
    {
     "name": "stdout",
     "output_type": "stream",
     "text": [
      "UCAGGGGUUUAACAGGUUUUAAAUUAACCCGUAUAAAGUUAUUGUUUCCGUUGAUUAUAUUAUCACGUGUUCGUUAUAGAAACUUACCCGUGAAGUGGUUUCUCCAAUAAAAUUAACAGUUAUUUAUAUACUUUUCUACAAGUUAUGGUAAUAAAGAGACCUUUUACGUUCAAUUUUUAUGGUCUAUAGUACUGUGUUGGAGGUCUUAUCGACUUUACUCUUCUUAACCAUUUUGGUUCAUAAAUGUUUUUAUUCGUUUGACUUAUUUACGAUCCAUUACAA\n"
     ]
    }
   ],
   "source": [
    "RNA_boa = \"\" \n",
    "for i in boar:\n",
    "    if i == \"A\":\n",
    "        RNA_boa +=\"U\"\n",
    "    elif i == \"C\":\n",
    "        RNA_boa += \"G\"\n",
    "    elif i == \"G\":\n",
    "        RNA_boa += \"C\"\n",
    "    elif i == \"T\":\n",
    "        RNA_boa += \"A\"\n",
    "print(RNA_boa)"
   ]
  },
  {
   "cell_type": "markdown",
   "metadata": {},
   "source": [
    "The amino acid:"
   ]
  },
  {
   "cell_type": "code",
   "execution_count": 19,
   "metadata": {},
   "outputs": [],
   "source": [
    "codonDict = {\"UUU\":\"F\",\"UUC\":\"F\",\"UUA\":\"L\",\"UUG\":\"L\", \"CUU\":\"L\",\"CUC\":\"L\", \n",
    "             \"CUA\":\"L\",\"CUG\":\"L\",\"AUU\":\"I\",\"AUC\":\"I\",\"AUA\":\"I\",\"AUG\":\"M\",\n",
    "             \"GUU\":\"V\",\"GUC\":\"V\",\"GUA\":\"V\",\"GUG\":\"V\",\"UCU\":\"S\",\"UCC\":\"S\",\n",
    "             \"UCA\":\"S\",\"UCG\":\"S\",\"CCU\":\"P\",\"CCC\":\"P\",\"CCA\":\"P\",\"CCG\":\"P\",\n",
    "             \"ACU\":\"T\",\"ACC\":\"T\",\"ACA\":\"T\",\"ACG\":\"T\",\"GCU\":\"A\",\"GCC\":\"A\",\n",
    "             \"GCA\":\"A\",\"GCG\":\"A\",\"UAU\":\"Y\",\"UAC\":\"Y\",\"UAA\":\"STOP\",\"UAG\":\"STOP\",\n",
    "             \"UGA\":\"STOP\",\"CAU\":\"H\",\"CAC\":\"H\",\"CAA\":\"Q\",\"CAG\":\"Q\",\"AAU\":\"N\",\n",
    "             \"AAC\":\"N\",\"AAA\":\"K\",\"AAG\":\"K\",\"GAU\":\"D\",\"GAC\":\"D\",\"GAA\":\"E\",\n",
    "             \"GAG\":\"E\",\"UGU\":\"C\",\"UGC\":\"C\",\"UGG\":\"W\",\"CGU\":\"R\",\"CGC\":\"R\",\n",
    "             \"CGA\":\"R\",\"CGG\":\"R\",\"AGU\":\"S\",\"AGC\":\"S\",\"AGA\":\"R\",\"AGG\":\"R\",\n",
    "             \"GGU\":\"G\",\"GGC\":\"G\",\"GGA\":\"G\",\"GGG\":\"G\"}"
   ]
  },
  {
   "cell_type": "code",
   "execution_count": 20,
   "metadata": {},
   "outputs": [
    {
     "name": "stdout",
     "output_type": "stream",
     "text": [
      "LGVSIPLIGRIRISLREGISTOPRSSGKSTOPLSVSDGESTOPLELLDVEGDRDEVRNYVVGGVGEGGWGYKGGVGDGRERVGFQDGSTOPGVVHHGVSTOPVSVYGSTOP\n"
     ]
    }
   ],
   "source": [
    "protein_wha = \"\" # empty strings\n",
    "codon = \"\"\n",
    "for i in RNA_wha: # looping through his RNA\n",
    "    if len(codon) != 3: # != : not equal\n",
    "        codon += i #  adds a nucleotides\n",
    "    if len(codon) == 3:  \n",
    "        protein_wha += codonDict[codon] # looks up the codon in the dictionary and adds the value into the protein string\n",
    "        codon = \"\" # empty the string\n",
    "print(protein_wha)\n",
    "    "
   ]
  },
  {
   "cell_type": "code",
   "execution_count": 21,
   "metadata": {},
   "outputs": [
    {
     "name": "stdout",
     "output_type": "stream",
     "text": [
      "SGVSFPLIGRIRISLREEISTOPRSSREMTFRLGLRMTRTFRREGDGDEVRTYVGEGSEKEDGSTKEESGTSGKVSGKESGFGTDKGSFTMGWVSL\n"
     ]
    }
   ],
   "source": [
    "protein_hip = \"\" # empty strings\n",
    "codon = \"\"\n",
    "for i in RNA_hip: # looping through his RNA\n",
    "    if len(codon) != 3: # != : not equal\n",
    "        codon += i #  adds a nucleotides\n",
    "    if len(codon) == 3:  \n",
    "        protein_hip += codonDict[codon] # looks up the codon in the dictionary and adds the value into the protein string\n",
    "        codon = \"\" # empty the string\n",
    "print(protein_hip)\n",
    "    \n",
    "    "
   ]
  },
  {
   "cell_type": "code",
   "execution_count": 22,
   "metadata": {},
   "outputs": [
    {
     "name": "stdout",
     "output_type": "stream",
     "text": [
      "SGVSTOPQVLNSTOPPVSTOPSYCFRSTOPLYYHVFVIETYPSTOPSGFSNKINSYLYTFLQVMVIKRPFTFNFYGLSTOPYCVGGLIDFTLLNHFGSSTOPMFLFVSTOPLIYDPLQ\n"
     ]
    }
   ],
   "source": [
    "protein_boa = \"\" # empty strings\n",
    "codon = \"\"\n",
    "for i in RNA_boa: # looping through his RNA\n",
    "    if len(codon) != 3: # != : not equal\n",
    "        codon += i #  adds a nucleotides\n",
    "    if len(codon) == 3:  \n",
    "        protein_boa += codonDict[codon] # looks up the codon in the dictionary and adds the value into the protein string\n",
    "        codon = \"\" # empty the string\n",
    "print(protein_boa)\n",
    "    "
   ]
  },
  {
   "cell_type": "markdown",
   "metadata": {},
   "source": [
    "The protein differences:"
   ]
  },
  {
   "cell_type": "code",
   "execution_count": 23,
   "metadata": {
    "scrolled": true
   },
   "outputs": [
    {
     "name": "stdout",
     "output_type": "stream",
     "text": [
      "135\n"
     ]
    }
   ],
   "source": [
    "differences = 0\n",
    "if len(RNA_wha) < len(RNA_hip):\n",
    "    for c,i in enumerate(RNA_wha):\n",
    "        if i != RNA_hip[c]:\n",
    "            differences += 1\n",
    "else:\n",
    "    for c,i in enumerate(RNA_hip):\n",
    "        if i != RNA_wha[c]:\n",
    "            differences += 1\n",
    "    \n",
    "print(differences)\n",
    "    "
   ]
  },
  {
   "cell_type": "code",
   "execution_count": 24,
   "metadata": {},
   "outputs": [
    {
     "name": "stdout",
     "output_type": "stream",
     "text": [
      "0\n"
     ]
    }
   ],
   "source": [
    "differences2 = 0\n",
    "if len(RNA_wha) < len(RNA_boa):\n",
    "    for c,i in enumerate(RNA_wha):\n",
    "        if i != RNA_boa[c]:\n",
    "               differences += 1\n",
    "else:\n",
    "    for c,i in enumerate(RNA_boa):\n",
    "        if i != RNA_wha[c]:\n",
    "            differences += 1\n",
    "print(differences2)"
   ]
  },
  {
   "cell_type": "markdown",
   "metadata": {},
   "source": [
    "DNA differences:"
   ]
  },
  {
   "cell_type": "code",
   "execution_count": 62,
   "metadata": {},
   "outputs": [
    {
     "name": "stdout",
     "output_type": "stream",
     "text": [
      "23.404255319148938\n",
      "71.63120567375887\n",
      "72.3404255319149\n"
     ]
    }
   ],
   "source": [
    "def P_diff(a1, a2):\n",
    "    DNA_differences = 0\n",
    "    if len(a1) < len(a2):\n",
    "        for c,i in enumerate(a1):\n",
    "            if i != a2[c]:\n",
    "                DNA_differences += 1\n",
    "        print(DNA_differences/len(a2)*100)\n",
    "    else:\n",
    "        for c,i in enumerate(a2):\n",
    "            if i != a1[c]:\n",
    "                DNA_differences += 1\n",
    "        print(DNA_differences/len(a1)*100)      \n",
    "\n",
    "P_diff(whale,hippo)\n",
    "P_diff(hippo,boar)\n",
    "P_diff(whale, boar)"
   ]
  },
  {
   "cell_type": "markdown",
   "metadata": {},
   "source": [
    "Graphing:"
   ]
  },
  {
   "cell_type": "code",
   "execution_count": 36,
   "metadata": {},
   "outputs": [],
   "source": [
    "W_H = 23.404255319148938\n",
    "H_B = 71.63120567375887\n",
    "W_B = 72.3404255319149"
   ]
  },
  {
   "cell_type": "code",
   "execution_count": 31,
   "metadata": {},
   "outputs": [
    {
     "data": {
      "image/png": "[encoded data removed]",
      "text/plain": [
       "<Figure size 432x288 with 1 Axes>"
      ]
     },
     "metadata": {
      "needs_background": "light"
     },
     "output_type": "display_data"
    }
   ],
   "source": [
    "plt.bar([1], [W_H], color = \"b\", label = \"23%\")\n",
    "plt.bar([2], [H_B], color = \"mediumblue\", label = \"72%\")\n",
    "plt.bar([3],[W_B], color = \"darkblue\", label = \"71.6%\")\n",
    "plt.xticks([1,2,3], [\"Whale & Hippo\", \"Hippo & Bore\", \"Whale & Bore\"])\n",
    "plt.title(\"The difference\")\n",
    "plt.legend()\n",
    "plt.show()  "
   ]
  }
 ],
 "metadata": {
  "kernelspec": {
   "display_name": "Python 3",
   "language": "python",
   "name": "python3"
  },
  "language_info": {
   "codemirror_mode": {
    "name": "ipython",
    "version": 3
   },
   "file_extension": ".py",
   "mimetype": "text/x-python",
   "name": "python",
   "nbconvert_exporter": "python",
   "pygments_lexer": "ipython3",
   "version": "3.7.3"
  }
 },
 "nbformat": 4,
 "nbformat_minor": 2
}
